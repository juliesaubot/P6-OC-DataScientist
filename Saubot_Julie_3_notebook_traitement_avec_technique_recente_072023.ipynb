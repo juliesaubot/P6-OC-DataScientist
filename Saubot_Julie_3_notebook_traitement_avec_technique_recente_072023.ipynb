{
 "cells": [
  {
   "cell_type": "markdown",
   "id": "b7720d5f",
   "metadata": {},
   "source": [
    "# Classification supervisée d'images via CNN Transfer Learning"
   ]
  },
  {
   "cell_type": "markdown",
   "id": "500ce5cf",
   "metadata": {},
   "source": [
    "L'apprentissage par transfert est le phénomène par lequel un apprentissage nouveau est facilité grâce aux apprentissages antérieurs partageant des similitudes.\n",
    "\n",
    "Le transfer learning consiste à ré-utiliser la partie convolutionnelle d'un modèle pré-entrainé sur une autre tâche de classification."
   ]
  },
  {
   "cell_type": "code",
   "execution_count": 1,
   "id": "4467a27d",
   "metadata": {},
   "outputs": [],
   "source": [
    "import pandas as pd\n",
    "import numpy as np\n",
    "import matplotlib.pyplot as plt\n",
    "import seaborn as sns\n",
    "%matplotlib inline\n",
    "import time\n",
    "import os\n",
    "from os import listdir\n",
    "from sklearn.model_selection import train_test_split\n",
    "from sklearn.metrics import accuracy_score, adjusted_rand_score,auc, roc_auc_score, roc_curve, confusion_matrix, classification_report\n",
    "from sklearn.preprocessing import LabelEncoder\n",
    "from glob import glob\n",
    "\n",
    "import tensorflow as tf\n",
    "from tensorflow.keras.models import Model, Sequential\n",
    "from tensorflow.keras.layers import GlobalAveragePooling2D, GlobalAveragePooling1D, Flatten, Dense, Dropout \n",
    "from tensorflow.keras.layers import Rescaling, RandomFlip, RandomRotation, RandomZoom\n",
    "from tensorflow.keras.callbacks import EarlyStopping, ModelCheckpoint\n",
    "from tensorflow.keras.applications.vgg16 import VGG16\n",
    "from tensorflow.keras.applications.vgg16 import preprocess_input\n",
    "from tensorflow.keras.preprocessing.image import load_img, img_to_array\n",
    "from tensorflow.keras.utils import to_categorical\n",
    "\n",
    "import plot_keras_history\n",
    "from plot_keras_history import show_history, plot_history\n",
    "import matplotlib.pyplot as plt\n",
    "import datetime"
   ]
  },
  {
   "cell_type": "markdown",
   "id": "0a44b7db",
   "metadata": {},
   "source": [
    "## Approche nouvelle par Dataset avec data augmentation intégrée au modèle"
   ]
  },
  {
   "cell_type": "markdown",
   "id": "528bf98a",
   "metadata": {},
   "source": [
    "### Fonctions"
   ]
  },
  {
   "cell_type": "code",
   "execution_count": 2,
   "id": "34bc1deb",
   "metadata": {},
   "outputs": [],
   "source": [
    "#fonction qui crée le modele de classification\n",
    "\n",
    "def create_model_fct() :\n",
    "    # Data augmentation\n",
    "    data_augmentation = Sequential([\n",
    "        RandomFlip(\"horizontal\", input_shape=(224, 224, 3)),\n",
    "        RandomRotation(0.1),\n",
    "        RandomZoom(0.1),\n",
    "        #Rescaling(1./127.5, offset=-1.0)\n",
    "      ])\n",
    "    \n",
    "    # Récupération modèle pré-entraîné\n",
    "    model_base = VGG16(include_top=False, weights=\"imagenet\", input_shape=(224, 224, 3))\n",
    "    for layer in model_base.layers:\n",
    "        layer.trainable = False\n",
    "\n",
    "    # Définition du nouveau modèle\n",
    "    model = Sequential([\n",
    "                data_augmentation,\n",
    "                Rescaling(1./127.5, offset=-1), #la couche de redimensionnement qui normalise les valeurs de pixel dans la plage [-1,1]\n",
    "                model_base,\n",
    "                GlobalAveragePooling2D(),\n",
    "                Dense(256, activation='relu'), #couche de correction ReLu (Rectified Linear Unit)\n",
    "                Dropout(0.5),\n",
    "                Dense(7, activation='softmax') #fonction d'activation softmax car classification multi-classe\n",
    "                ])\n",
    "\n",
    "    # compilation du modèle \n",
    "    model.compile(loss=\"categorical_crossentropy\", # calcul l'erreur de classification : entropie croisée\n",
    "                  optimizer='adam',\n",
    "                  metrics=[\"accuracy\"])\n",
    "\n",
    "    print(model.summary())\n",
    "    \n",
    "    return model"
   ]
  },
  {
   "cell_type": "markdown",
   "id": "9abc4bcd",
   "metadata": {},
   "source": [
    "### Creation d'un dataframe de score"
   ]
  },
  {
   "cell_type": "code",
   "execution_count": 3,
   "id": "66f39b8d",
   "metadata": {},
   "outputs": [],
   "source": [
    "# On crée un dataframe pour ajouter les scores au fur et à mesure\n",
    "scores = pd.DataFrame(columns = ['Modèle', 'Validation Accuracy', 'Test Accuracy', 'Validation Loss','Test Loss',\"Temps nécessaire pour l'entrainement du modèle\" ])"
   ]
  },
  {
   "cell_type": "markdown",
   "id": "bcb925b9",
   "metadata": {},
   "source": [
    "### Creation datasets d'entrainement, de test et de validation"
   ]
  },
  {
   "cell_type": "code",
   "execution_count": 4,
   "id": "e1df964c",
   "metadata": {},
   "outputs": [],
   "source": [
    "batch_size = 32\n",
    "# On utilise les images qui sont classés dans des dossiers des differents catégories de produits\n",
    "path = './Flipkart/Images/df_train'\n",
    "path_test = './Flipkart/Images/df_test'\n",
    "\n",
    "def dataset_fct(path, validation_split=0, data_type=None) :\n",
    "    dataset = tf.keras.utils.image_dataset_from_directory(path,\n",
    "                                                          labels='inferred', \n",
    "                                                          label_mode='categorical',\n",
    "                                                          class_names=None, \n",
    "                                                          batch_size=batch_size,\n",
    "                                                          image_size=(224, 224),\n",
    "                                                          shuffle=True, \n",
    "                                                          seed=42,\n",
    "                                                          validation_split=validation_split, \n",
    "                                                          subset=data_type)\n",
    "    return dataset"
   ]
  },
  {
   "cell_type": "code",
   "execution_count": 5,
   "id": "80c0e88c",
   "metadata": {},
   "outputs": [
    {
     "name": "stdout",
     "output_type": "stream",
     "text": [
      "Found 735 files belonging to 7 classes.\n",
      "Using 552 files for training.\n",
      "Found 735 files belonging to 7 classes.\n",
      "Using 183 files for validation.\n",
      "Found 315 files belonging to 7 classes.\n"
     ]
    }
   ],
   "source": [
    "# on crée les datasets d'entrainement, de validation et de test\n",
    "dataset_train = dataset_fct(path, validation_split=0.25, data_type='training')\n",
    "dataset_val = dataset_fct(path, validation_split=0.25, data_type='validation')\n",
    "dataset_test = dataset_fct(path_test, validation_split=0, data_type=None)"
   ]
  },
  {
   "cell_type": "markdown",
   "id": "9f9a0b0e",
   "metadata": {},
   "source": [
    "### Creation du modèle"
   ]
  },
  {
   "cell_type": "code",
   "execution_count": 6,
   "id": "36229d32",
   "metadata": {},
   "outputs": [
    {
     "name": "stdout",
     "output_type": "stream",
     "text": [
      "WARNING:tensorflow:Using a while_loop for converting RngReadAndSkip cause there is no registered converter for this op.\n",
      "WARNING:tensorflow:Using a while_loop for converting Bitcast cause there is no registered converter for this op.\n",
      "WARNING:tensorflow:Using a while_loop for converting Bitcast cause there is no registered converter for this op.\n",
      "WARNING:tensorflow:Using a while_loop for converting StatelessRandomUniformV2 cause there is no registered converter for this op.\n",
      "WARNING:tensorflow:Using a while_loop for converting ImageProjectiveTransformV3 cause there is no registered converter for this op.\n",
      "WARNING:tensorflow:Using a while_loop for converting RngReadAndSkip cause there is no registered converter for this op.\n",
      "WARNING:tensorflow:Using a while_loop for converting Bitcast cause there is no registered converter for this op.\n",
      "WARNING:tensorflow:Using a while_loop for converting Bitcast cause there is no registered converter for this op.\n",
      "WARNING:tensorflow:Using a while_loop for converting StatelessRandomUniformV2 cause there is no registered converter for this op.\n",
      "WARNING:tensorflow:Using a while_loop for converting ImageProjectiveTransformV3 cause there is no registered converter for this op.\n",
      "WARNING:tensorflow:Using a while_loop for converting RngReadAndSkip cause there is no registered converter for this op.\n",
      "WARNING:tensorflow:Using a while_loop for converting Bitcast cause there is no registered converter for this op.\n",
      "WARNING:tensorflow:Using a while_loop for converting Bitcast cause there is no registered converter for this op.\n",
      "WARNING:tensorflow:Using a while_loop for converting StatelessRandomUniformV2 cause there is no registered converter for this op.\n",
      "WARNING:tensorflow:Using a while_loop for converting ImageProjectiveTransformV3 cause there is no registered converter for this op.\n",
      "WARNING:tensorflow:Using a while_loop for converting RngReadAndSkip cause there is no registered converter for this op.\n",
      "WARNING:tensorflow:Using a while_loop for converting Bitcast cause there is no registered converter for this op.\n",
      "WARNING:tensorflow:Using a while_loop for converting Bitcast cause there is no registered converter for this op.\n",
      "WARNING:tensorflow:Using a while_loop for converting StatelessRandomUniformV2 cause there is no registered converter for this op.\n",
      "WARNING:tensorflow:Using a while_loop for converting ImageProjectiveTransformV3 cause there is no registered converter for this op.\n",
      "Model: \"sequential_1\"\n",
      "_________________________________________________________________\n",
      " Layer (type)                Output Shape              Param #   \n",
      "=================================================================\n",
      " sequential (Sequential)     (None, 224, 224, 3)       0         \n",
      "                                                                 \n",
      " rescaling (Rescaling)       (None, 224, 224, 3)       0         \n",
      "                                                                 \n",
      " vgg16 (Functional)          (None, 7, 7, 512)         14714688  \n",
      "                                                                 \n",
      " global_average_pooling2d (G  (None, 512)              0         \n",
      " lobalAveragePooling2D)                                          \n",
      "                                                                 \n",
      " dense (Dense)               (None, 256)               131328    \n",
      "                                                                 \n",
      " dropout (Dropout)           (None, 256)               0         \n",
      "                                                                 \n",
      " dense_1 (Dense)             (None, 7)                 1799      \n",
      "                                                                 \n",
      "=================================================================\n",
      "Total params: 14,847,815\n",
      "Trainable params: 133,127\n",
      "Non-trainable params: 14,714,688\n",
      "_________________________________________________________________\n",
      "None\n"
     ]
    }
   ],
   "source": [
    "# Création du modèle\n",
    "model1 = create_model_fct()\n",
    "\n",
    "# Création du callback\n",
    "model1_save_path = \"./model5_best_weights.h5\"\n",
    "checkpoint = ModelCheckpoint(model1_save_path, \n",
    "                             monitor='val_loss', \n",
    "                             verbose=1, \n",
    "                             save_best_only=True, \n",
    "                             mode='min')\n",
    "es = EarlyStopping(monitor='val_loss',\n",
    "                   mode='min', \n",
    "                   verbose=1, \n",
    "                   patience=5)\n",
    "callbacks_list = [checkpoint, es]"
   ]
  },
  {
   "cell_type": "markdown",
   "id": "60f6dfc1",
   "metadata": {},
   "source": [
    "### Entrainement du modèle"
   ]
  },
  {
   "cell_type": "code",
   "execution_count": 7,
   "id": "19c62957",
   "metadata": {
    "scrolled": true
   },
   "outputs": [
    {
     "name": "stdout",
     "output_type": "stream",
     "text": [
      "Epoch 1/20\n",
      "WARNING:tensorflow:Using a while_loop for converting RngReadAndSkip cause there is no registered converter for this op.\n",
      "WARNING:tensorflow:Using a while_loop for converting Bitcast cause there is no registered converter for this op.\n",
      "WARNING:tensorflow:Using a while_loop for converting Bitcast cause there is no registered converter for this op.\n",
      "WARNING:tensorflow:Using a while_loop for converting StatelessRandomUniformV2 cause there is no registered converter for this op.\n",
      "WARNING:tensorflow:Using a while_loop for converting ImageProjectiveTransformV3 cause there is no registered converter for this op.\n",
      "WARNING:tensorflow:Using a while_loop for converting RngReadAndSkip cause there is no registered converter for this op.\n",
      "WARNING:tensorflow:Using a while_loop for converting Bitcast cause there is no registered converter for this op.\n",
      "WARNING:tensorflow:Using a while_loop for converting Bitcast cause there is no registered converter for this op.\n",
      "WARNING:tensorflow:Using a while_loop for converting StatelessRandomUniformV2 cause there is no registered converter for this op.\n",
      "WARNING:tensorflow:Using a while_loop for converting ImageProjectiveTransformV3 cause there is no registered converter for this op.\n",
      "WARNING:tensorflow:Using a while_loop for converting RngReadAndSkip cause there is no registered converter for this op.\n",
      "WARNING:tensorflow:Using a while_loop for converting Bitcast cause there is no registered converter for this op.\n",
      "WARNING:tensorflow:Using a while_loop for converting Bitcast cause there is no registered converter for this op.\n",
      "WARNING:tensorflow:Using a while_loop for converting StatelessRandomUniformV2 cause there is no registered converter for this op.\n",
      "WARNING:tensorflow:Using a while_loop for converting ImageProjectiveTransformV3 cause there is no registered converter for this op.\n",
      "WARNING:tensorflow:Using a while_loop for converting RngReadAndSkip cause there is no registered converter for this op.\n",
      "WARNING:tensorflow:Using a while_loop for converting Bitcast cause there is no registered converter for this op.\n",
      "WARNING:tensorflow:Using a while_loop for converting Bitcast cause there is no registered converter for this op.\n",
      "WARNING:tensorflow:Using a while_loop for converting StatelessRandomUniformV2 cause there is no registered converter for this op.\n",
      "WARNING:tensorflow:Using a while_loop for converting ImageProjectiveTransformV3 cause there is no registered converter for this op.\n"
     ]
    },
    {
     "name": "stderr",
     "output_type": "stream",
     "text": [
      "2023-10-09 12:31:31.659178: W tensorflow/core/platform/profile_utils/cpu_utils.cc:128] Failed to get CPU frequency: 0 Hz\n"
     ]
    },
    {
     "name": "stdout",
     "output_type": "stream",
     "text": [
      "18/18 [==============================] - ETA: 0s - loss: 1.9782 - accuracy: 0.2337\n",
      "Epoch 1: val_loss improved from inf to 1.49361, saving model to ./model5_best_weights.h5\n",
      "18/18 [==============================] - 47s 2s/step - loss: 1.9782 - accuracy: 0.2337 - val_loss: 1.4936 - val_accuracy: 0.5902\n",
      "Epoch 2/20\n",
      "18/18 [==============================] - ETA: 0s - loss: 1.5105 - accuracy: 0.4710\n",
      "Epoch 2: val_loss improved from 1.49361 to 1.23100, saving model to ./model5_best_weights.h5\n",
      "18/18 [==============================] - 45s 2s/step - loss: 1.5105 - accuracy: 0.4710 - val_loss: 1.2310 - val_accuracy: 0.6557\n",
      "Epoch 3/20\n",
      "18/18 [==============================] - ETA: 0s - loss: 1.2823 - accuracy: 0.6033\n",
      "Epoch 3: val_loss improved from 1.23100 to 1.03779, saving model to ./model5_best_weights.h5\n",
      "18/18 [==============================] - 45s 2s/step - loss: 1.2823 - accuracy: 0.6033 - val_loss: 1.0378 - val_accuracy: 0.7486\n",
      "Epoch 4/20\n",
      "18/18 [==============================] - ETA: 0s - loss: 1.1080 - accuracy: 0.6649\n",
      "Epoch 4: val_loss improved from 1.03779 to 0.91369, saving model to ./model5_best_weights.h5\n",
      "18/18 [==============================] - 45s 2s/step - loss: 1.1080 - accuracy: 0.6649 - val_loss: 0.9137 - val_accuracy: 0.7705\n",
      "Epoch 5/20\n",
      "18/18 [==============================] - ETA: 0s - loss: 0.9685 - accuracy: 0.7047\n",
      "Epoch 5: val_loss improved from 0.91369 to 0.84150, saving model to ./model5_best_weights.h5\n",
      "18/18 [==============================] - 44s 2s/step - loss: 0.9685 - accuracy: 0.7047 - val_loss: 0.8415 - val_accuracy: 0.7650\n",
      "Epoch 6/20\n",
      "18/18 [==============================] - ETA: 0s - loss: 0.9177 - accuracy: 0.6938\n",
      "Epoch 6: val_loss improved from 0.84150 to 0.79274, saving model to ./model5_best_weights.h5\n",
      "18/18 [==============================] - 44s 2s/step - loss: 0.9177 - accuracy: 0.6938 - val_loss: 0.7927 - val_accuracy: 0.7377\n",
      "Epoch 7/20\n",
      "18/18 [==============================] - ETA: 0s - loss: 0.8602 - accuracy: 0.7210\n",
      "Epoch 7: val_loss improved from 0.79274 to 0.75295, saving model to ./model5_best_weights.h5\n",
      "18/18 [==============================] - 45s 2s/step - loss: 0.8602 - accuracy: 0.7210 - val_loss: 0.7530 - val_accuracy: 0.7923\n",
      "Epoch 8/20\n",
      "18/18 [==============================] - ETA: 0s - loss: 0.8227 - accuracy: 0.7464\n",
      "Epoch 8: val_loss improved from 0.75295 to 0.72806, saving model to ./model5_best_weights.h5\n",
      "18/18 [==============================] - 45s 2s/step - loss: 0.8227 - accuracy: 0.7464 - val_loss: 0.7281 - val_accuracy: 0.7760\n",
      "Epoch 9/20\n",
      "18/18 [==============================] - ETA: 0s - loss: 0.7807 - accuracy: 0.7645\n",
      "Epoch 9: val_loss improved from 0.72806 to 0.71015, saving model to ./model5_best_weights.h5\n",
      "18/18 [==============================] - 45s 2s/step - loss: 0.7807 - accuracy: 0.7645 - val_loss: 0.7102 - val_accuracy: 0.7650\n",
      "Epoch 10/20\n",
      "18/18 [==============================] - ETA: 0s - loss: 0.7712 - accuracy: 0.7337\n",
      "Epoch 10: val_loss improved from 0.71015 to 0.69689, saving model to ./model5_best_weights.h5\n",
      "18/18 [==============================] - 45s 2s/step - loss: 0.7712 - accuracy: 0.7337 - val_loss: 0.6969 - val_accuracy: 0.7978\n",
      "Epoch 11/20\n",
      "18/18 [==============================] - ETA: 0s - loss: 0.7340 - accuracy: 0.7808\n",
      "Epoch 11: val_loss improved from 0.69689 to 0.68349, saving model to ./model5_best_weights.h5\n",
      "18/18 [==============================] - 45s 2s/step - loss: 0.7340 - accuracy: 0.7808 - val_loss: 0.6835 - val_accuracy: 0.7760\n",
      "Epoch 12/20\n",
      "18/18 [==============================] - ETA: 0s - loss: 0.6854 - accuracy: 0.7844\n",
      "Epoch 12: val_loss improved from 0.68349 to 0.66850, saving model to ./model5_best_weights.h5\n",
      "18/18 [==============================] - 45s 2s/step - loss: 0.6854 - accuracy: 0.7844 - val_loss: 0.6685 - val_accuracy: 0.7869\n",
      "Epoch 13/20\n",
      "18/18 [==============================] - ETA: 0s - loss: 0.6593 - accuracy: 0.8043\n",
      "Epoch 13: val_loss improved from 0.66850 to 0.66329, saving model to ./model5_best_weights.h5\n",
      "18/18 [==============================] - 45s 2s/step - loss: 0.6593 - accuracy: 0.8043 - val_loss: 0.6633 - val_accuracy: 0.7978\n",
      "Epoch 14/20\n",
      "18/18 [==============================] - ETA: 0s - loss: 0.6618 - accuracy: 0.7717\n",
      "Epoch 14: val_loss improved from 0.66329 to 0.65199, saving model to ./model5_best_weights.h5\n",
      "18/18 [==============================] - 45s 2s/step - loss: 0.6618 - accuracy: 0.7717 - val_loss: 0.6520 - val_accuracy: 0.8033\n",
      "Epoch 15/20\n",
      "18/18 [==============================] - ETA: 0s - loss: 0.6185 - accuracy: 0.8152\n",
      "Epoch 15: val_loss did not improve from 0.65199\n",
      "18/18 [==============================] - 45s 2s/step - loss: 0.6185 - accuracy: 0.8152 - val_loss: 0.6610 - val_accuracy: 0.7705\n",
      "Epoch 16/20\n",
      "18/18 [==============================] - ETA: 0s - loss: 0.6149 - accuracy: 0.8170\n",
      "Epoch 16: val_loss improved from 0.65199 to 0.64531, saving model to ./model5_best_weights.h5\n",
      "18/18 [==============================] - 50s 3s/step - loss: 0.6149 - accuracy: 0.8170 - val_loss: 0.6453 - val_accuracy: 0.7978\n",
      "Epoch 17/20\n",
      "18/18 [==============================] - ETA: 0s - loss: 0.6107 - accuracy: 0.8062 \n",
      "Epoch 17: val_loss improved from 0.64531 to 0.63903, saving model to ./model5_best_weights.h5\n",
      "18/18 [==============================] - 700s 41s/step - loss: 0.6107 - accuracy: 0.8062 - val_loss: 0.6390 - val_accuracy: 0.7814\n",
      "Epoch 18/20\n",
      "18/18 [==============================] - ETA: 0s - loss: 0.5787 - accuracy: 0.8188\n",
      "Epoch 18: val_loss did not improve from 0.63903\n",
      "18/18 [==============================] - 57s 3s/step - loss: 0.5787 - accuracy: 0.8188 - val_loss: 0.6513 - val_accuracy: 0.8033\n",
      "Epoch 19/20\n",
      "18/18 [==============================] - ETA: 0s - loss: 0.5466 - accuracy: 0.8279\n",
      "Epoch 19: val_loss improved from 0.63903 to 0.63020, saving model to ./model5_best_weights.h5\n",
      "18/18 [==============================] - 69s 4s/step - loss: 0.5466 - accuracy: 0.8279 - val_loss: 0.6302 - val_accuracy: 0.8033\n",
      "Epoch 20/20\n",
      "18/18 [==============================] - ETA: 0s - loss: 0.5651 - accuracy: 0.8261 \n",
      "Epoch 20: val_loss did not improve from 0.63020\n",
      "18/18 [==============================] - 278s 16s/step - loss: 0.5651 - accuracy: 0.8261 - val_loss: 0.6482 - val_accuracy: 0.7814\n",
      "Temps d'exécution : 1.8e+03ms\n"
     ]
    }
   ],
   "source": [
    "start = time.time()\n",
    "#on stocke l'historique du modèle de l'apprentissage dans une variable\n",
    "\n",
    "history1 = model1.fit(dataset_train,\n",
    "                      validation_data=dataset_val,\n",
    "                      #batch_size=batch_size, #ignored because the date is a generator\n",
    "                      epochs=20, \n",
    "                      callbacks=callbacks_list, \n",
    "                      verbose=1)\n",
    "\n",
    "end = time.time()\n",
    "elapsed1 = end - start\n",
    "\n",
    "print(f'Temps d\\'exécution : {elapsed1:.2}ms')"
   ]
  },
  {
   "cell_type": "code",
   "execution_count": 8,
   "id": "a606331d",
   "metadata": {},
   "outputs": [
    {
     "name": "stdout",
     "output_type": "stream",
     "text": [
      "18/18 [==============================] - 45s 2s/step - loss: 0.4030 - accuracy: 0.8913\n",
      "Training Accuracy   : 0.8913\n",
      "\n",
      "6/6 [==============================] - 13s 2s/step - loss: 0.6482 - accuracy: 0.7814\n",
      "Validation Accuracy :  0.7814\n"
     ]
    }
   ],
   "source": [
    "# Score du dernier epoch\n",
    "\n",
    "loss, accuracy = model1.evaluate(dataset_train, verbose=True)\n",
    "print(\"Training Accuracy   : {:.4f}\".format(accuracy))\n",
    "print()\n",
    "loss, accuracy = model1.evaluate(dataset_val, verbose=True)\n",
    "print(\"Validation Accuracy :  {:.4f}\".format(accuracy))"
   ]
  },
  {
   "cell_type": "code",
   "execution_count": 9,
   "id": "3cb48a7f",
   "metadata": {},
   "outputs": [
    {
     "name": "stdout",
     "output_type": "stream",
     "text": [
      "Validation Accuracy :  0.8033\n",
      "Test Accuracy       :  0.7778\n"
     ]
    }
   ],
   "source": [
    "# Score de l'epoch optimal\n",
    "\n",
    "model1.load_weights(model1_save_path)\n",
    "\n",
    "loss_val_1, accuracy_val_1 = model1.evaluate(dataset_val, verbose=False)\n",
    "print(\"Validation Accuracy :  {:.4f}\".format(accuracy_val_1))\n",
    "\n",
    "loss_test_1, accuracy_test_1 = model1.evaluate(dataset_test, verbose=False)\n",
    "print(\"Test Accuracy       :  {:.4f}\".format(accuracy_test_1))"
   ]
  },
  {
   "cell_type": "code",
   "execution_count": 10,
   "id": "ef9c3cdf",
   "metadata": {},
   "outputs": [
    {
     "data": {
      "image/png": "[encoded data removed]",
      "text/plain": [
       "<Figure size 1000x500 with 2 Axes>"
      ]
     },
     "metadata": {},
     "output_type": "display_data"
    }
   ],
   "source": [
    "#on trace les historiques pour la précision et les pertes \n",
    "\n",
    "show_history(history1)\n",
    "plot_history(history1, path=\"standard.png\")\n",
    "plt.close()"
   ]
  },
  {
   "cell_type": "code",
   "execution_count": 11,
   "id": "4e8fedcb",
   "metadata": {},
   "outputs": [],
   "source": [
    "time1 = time.strftime(\"%H:%M:%S\", time.gmtime(elapsed1))"
   ]
  },
  {
   "cell_type": "code",
   "execution_count": 12,
   "id": "6769c72a",
   "metadata": {},
   "outputs": [],
   "source": [
    "scores = pd.concat([scores, pd.DataFrame({'Modèle':'Essai 1',\n",
    "                                          'Validation Accuracy': accuracy_val_1,\n",
    "                                          'Test Accuracy':accuracy_test_1,\n",
    "                                          'Validation Loss':loss_val_1,\n",
    "                                          'Test Loss':loss_test_1,\n",
    "                                         \"Temps nécessaire pour l'entrainement du modèle\":time1\n",
    "                                         }, index = [0])]).reset_index(drop=True)\n"
   ]
  },
  {
   "cell_type": "code",
   "execution_count": 13,
   "id": "d0d6c63e",
   "metadata": {},
   "outputs": [
    {
     "data": {
      "text/html": [
       "<div>\n",
       "<style scoped>\n",
       "    .dataframe tbody tr th:only-of-type {\n",
       "        vertical-align: middle;\n",
       "    }\n",
       "\n",
       "    .dataframe tbody tr th {\n",
       "        vertical-align: top;\n",
       "    }\n",
       "\n",
       "    .dataframe thead th {\n",
       "        text-align: right;\n",
       "    }\n",
       "</style>\n",
       "<table border=\"1\" class=\"dataframe\">\n",
       "  <thead>\n",
       "    <tr style=\"text-align: right;\">\n",
       "      <th></th>\n",
       "      <th>Modèle</th>\n",
       "      <th>Validation Accuracy</th>\n",
       "      <th>Test Accuracy</th>\n",
       "      <th>Validation Loss</th>\n",
       "      <th>Test Loss</th>\n",
       "      <th>Temps nécessaire pour l'entrainement du modèle</th>\n",
       "    </tr>\n",
       "  </thead>\n",
       "  <tbody>\n",
       "    <tr>\n",
       "      <th>0</th>\n",
       "      <td>Essai 1</td>\n",
       "      <td>0.803279</td>\n",
       "      <td>0.777778</td>\n",
       "      <td>0.630203</td>\n",
       "      <td>0.689549</td>\n",
       "      <td>00:30:28</td>\n",
       "    </tr>\n",
       "  </tbody>\n",
       "</table>\n",
       "</div>"
      ],
      "text/plain": [
       "    Modèle  Validation Accuracy  Test Accuracy  Validation Loss  Test Loss  \\\n",
       "0  Essai 1             0.803279       0.777778         0.630203   0.689549   \n",
       "\n",
       "  Temps nécessaire pour l'entrainement du modèle  \n",
       "0                                       00:30:28  "
      ]
     },
     "execution_count": 13,
     "metadata": {},
     "output_type": "execute_result"
    }
   ],
   "source": [
    "scores"
   ]
  },
  {
   "cell_type": "markdown",
   "id": "25052f08",
   "metadata": {},
   "source": [
    "## Création des features des images"
   ]
  },
  {
   "cell_type": "code",
   "execution_count": 14,
   "id": "3fd8b4a4",
   "metadata": {},
   "outputs": [
    {
     "name": "stdout",
     "output_type": "stream",
     "text": [
      "['Baby Care', 'Beauty and Personal Care', 'Computers', 'Home Decor & Festive Needs', 'Home Furnishing', 'Kitchen & Dining', 'Watches']\n"
     ]
    }
   ],
   "source": [
    "class_names = dataset_train.class_names\n",
    "print(class_names)"
   ]
  },
  {
   "cell_type": "code",
   "execution_count": 15,
   "id": "44651729",
   "metadata": {},
   "outputs": [
    {
     "data": {
      "text/plain": [
       "{0: 'Baby Care',\n",
       " 1: 'Beauty and Personal Care',\n",
       " 2: 'Computers',\n",
       " 3: 'Home Decor & Festive Needs',\n",
       " 4: 'Home Furnishing',\n",
       " 5: 'Kitchen & Dining',\n",
       " 6: 'Watches'}"
      ]
     },
     "execution_count": 15,
     "metadata": {},
     "output_type": "execute_result"
    }
   ],
   "source": [
    "#on crée un dataframe des categories de produit\n",
    "label_df = pd.DataFrame(class_names, columns = [\"category\"])\n",
    "\n",
    "# on encode les catégories \n",
    "label_df['label'] = LabelEncoder().fit_transform(label_df.category)\n",
    " \n",
    "# on crée un cat-2-index dictionary\n",
    "dict_df = label_df[['label','category']].copy()\n",
    "dict_df.drop_duplicates(inplace=True)\n",
    "dict_df.set_index('label',drop=True,inplace=True)\n",
    " \n",
    "index_to_cat = dict_df.to_dict()['category']\n",
    "index_to_cat"
   ]
  },
  {
   "cell_type": "code",
   "execution_count": 16,
   "id": "35c82eef",
   "metadata": {},
   "outputs": [
    {
     "name": "stdout",
     "output_type": "stream",
     "text": [
      "1/1 [==============================] - 2s 2s/step\n",
      "1/1 [==============================] - 2s 2s/step\n",
      "1/1 [==============================] - 2s 2s/step\n",
      "1/1 [==============================] - 2s 2s/step\n",
      "1/1 [==============================] - 2s 2s/step\n",
      "1/1 [==============================] - 2s 2s/step\n",
      "1/1 [==============================] - 2s 2s/step\n",
      "1/1 [==============================] - 2s 2s/step\n",
      "1/1 [==============================] - 2s 2s/step\n",
      "1/1 [==============================] - 2s 2s/step\n"
     ]
    }
   ],
   "source": [
    "# On crée des listes de labels et predictions\n",
    "predictions = np.array([])\n",
    "labels =  np.array([])\n",
    "for x, y in dataset_test:\n",
    "    predictions = np.concatenate([predictions, np.argmax(model1.predict(x), axis = -1)])\n",
    "    labels = np.concatenate([labels, np.argmax(y.numpy(), axis=-1)])"
   ]
  },
  {
   "cell_type": "code",
   "execution_count": 17,
   "id": "603b95a0",
   "metadata": {},
   "outputs": [
    {
     "data": {
      "text/plain": [
       "array([[19,  2,  0,  4,  6,  1,  1],\n",
       "       [ 2, 33,  4,  3,  1,  1,  1],\n",
       "       [ 0,  3, 36,  3,  0,  1,  0],\n",
       "       [ 1,  1,  0, 42,  2,  3,  2],\n",
       "       [10,  1,  2,  2, 32,  1,  0],\n",
       "       [ 3,  2,  2,  1,  0, 43,  0],\n",
       "       [ 0,  1,  3,  0,  0,  0, 40]], dtype=int32)"
      ]
     },
     "execution_count": 17,
     "metadata": {},
     "output_type": "execute_result"
    }
   ],
   "source": [
    "confusionMatrix = tf.math.confusion_matrix(labels=labels, predictions=predictions).numpy()\n",
    "confusionMatrix"
   ]
  },
  {
   "cell_type": "code",
   "execution_count": 18,
   "id": "64e91bac",
   "metadata": {},
   "outputs": [
    {
     "data": {
      "text/plain": [
       "<Axes: >"
      ]
     },
     "execution_count": 18,
     "metadata": {},
     "output_type": "execute_result"
    },
    {
     "data": {
      "image/png": "[encoded data removed]",
      "text/plain": [
       "<Figure size 600x400 with 2 Axes>"
      ]
     },
     "metadata": {},
     "output_type": "display_data"
    }
   ],
   "source": [
    "# on crée une liste des catégories\n",
    "df_cm = pd.DataFrame(confusionMatrix, index = [label for label in class_names],\n",
    "                  columns = [i for i in \"0123456\"])\n",
    "\n",
    "plt.figure(figsize = (6,4))\n",
    "sns.heatmap(df_cm, annot=True, cmap=\"Blues\")"
   ]
  },
  {
   "cell_type": "code",
   "execution_count": 19,
   "id": "b075afb9",
   "metadata": {},
   "outputs": [
    {
     "name": "stdout",
     "output_type": "stream",
     "text": [
      "              precision    recall  f1-score   support\n",
      "\n",
      "         0.0       0.54      0.58      0.56        33\n",
      "         1.0       0.77      0.73      0.75        45\n",
      "         2.0       0.77      0.84      0.80        43\n",
      "         3.0       0.76      0.82      0.79        51\n",
      "         4.0       0.78      0.67      0.72        48\n",
      "         5.0       0.86      0.84      0.85        51\n",
      "         6.0       0.91      0.91      0.91        44\n",
      "\n",
      "    accuracy                           0.78       315\n",
      "   macro avg       0.77      0.77      0.77       315\n",
      "weighted avg       0.78      0.78      0.78       315\n",
      "\n"
     ]
    }
   ],
   "source": [
    "print(classification_report(labels, predictions))"
   ]
  },
  {
   "cell_type": "code",
   "execution_count": 20,
   "id": "b8e5f4a9",
   "metadata": {},
   "outputs": [
    {
     "data": {
      "text/plain": [
       "0.5727"
      ]
     },
     "execution_count": 20,
     "metadata": {},
     "output_type": "execute_result"
    }
   ],
   "source": [
    "ARI = np.round(adjusted_rand_score(labels,predictions),4)\n",
    "ARI"
   ]
  },
  {
   "cell_type": "markdown",
   "id": "cdc37f93",
   "metadata": {},
   "source": [
    "## Essai 2 : on fait varier le batch size"
   ]
  },
  {
   "cell_type": "markdown",
   "id": "25e4e603",
   "metadata": {},
   "source": [
    "### Creation datasets d'entrainement, de test et de validation"
   ]
  },
  {
   "cell_type": "code",
   "execution_count": 21,
   "id": "4e88852e",
   "metadata": {},
   "outputs": [],
   "source": [
    "batch_size = 64\n",
    "# On utilise les images qui sont classés dans des dossiers des differents catégories de produits\n",
    "path = './Flipkart/Images/df_train'\n",
    "path_test = './Flipkart/Images/df_test'\n",
    "\n",
    "def dataset_fct(path, validation_split=0, data_type=None) :\n",
    "    dataset = tf.keras.utils.image_dataset_from_directory(path,\n",
    "                                                          labels='inferred', \n",
    "                                                          label_mode='categorical',\n",
    "                                                          class_names=None, \n",
    "                                                          batch_size=batch_size,\n",
    "                                                          image_size=(224, 224),\n",
    "                                                          shuffle=True, \n",
    "                                                          seed=42,\n",
    "                                                          validation_split=validation_split, \n",
    "                                                          subset=data_type)\n",
    "    return dataset"
   ]
  },
  {
   "cell_type": "code",
   "execution_count": 22,
   "id": "d9a4821f",
   "metadata": {},
   "outputs": [
    {
     "name": "stdout",
     "output_type": "stream",
     "text": [
      "Found 735 files belonging to 7 classes.\n",
      "Using 552 files for training.\n",
      "Found 735 files belonging to 7 classes.\n",
      "Using 183 files for validation.\n",
      "Found 315 files belonging to 7 classes.\n"
     ]
    }
   ],
   "source": [
    "# on crée les datasets d'entrainement, de validation et de test\n",
    "dataset_train = dataset_fct(path, validation_split=0.25, data_type='training')\n",
    "dataset_val = dataset_fct(path, validation_split=0.25, data_type='validation')\n",
    "dataset_test = dataset_fct(path_test, validation_split=0, data_type=None)"
   ]
  },
  {
   "cell_type": "markdown",
   "id": "f38fd646",
   "metadata": {},
   "source": [
    "### Creation du modèle"
   ]
  },
  {
   "cell_type": "code",
   "execution_count": 23,
   "id": "d0192cd6",
   "metadata": {},
   "outputs": [
    {
     "name": "stdout",
     "output_type": "stream",
     "text": [
      "Model: \"sequential_3\"\n",
      "_________________________________________________________________\n",
      " Layer (type)                Output Shape              Param #   \n",
      "=================================================================\n",
      " sequential_2 (Sequential)   (None, 224, 224, 3)       0         \n",
      "                                                                 \n",
      " rescaling_1 (Rescaling)     (None, 224, 224, 3)       0         \n",
      "                                                                 \n",
      " vgg16 (Functional)          (None, 7, 7, 512)         14714688  \n",
      "                                                                 \n",
      " global_average_pooling2d_1   (None, 512)              0         \n",
      " (GlobalAveragePooling2D)                                        \n",
      "                                                                 \n",
      " dense_2 (Dense)             (None, 256)               131328    \n",
      "                                                                 \n",
      " dropout_1 (Dropout)         (None, 256)               0         \n",
      "                                                                 \n",
      " dense_3 (Dense)             (None, 7)                 1799      \n",
      "                                                                 \n",
      "=================================================================\n",
      "Total params: 14,847,815\n",
      "Trainable params: 133,127\n",
      "Non-trainable params: 14,714,688\n",
      "_________________________________________________________________\n",
      "None\n"
     ]
    }
   ],
   "source": [
    "# Création du modèle\n",
    "model2 = create_model_fct()\n",
    "\n",
    "# Création du callback\n",
    "model2_save_path = \"./model6_best_weights.h5\"\n",
    "\n",
    "checkpoint = ModelCheckpoint(model2_save_path, \n",
    "                             monitor='val_loss', \n",
    "                             verbose=1, \n",
    "                             save_best_only=True, \n",
    "                             mode='min')\n",
    "\n",
    "es = EarlyStopping(monitor='val_loss',\n",
    "                   mode='min', \n",
    "                   verbose=1, \n",
    "                   patience=5)\n",
    "callbacks_list = [checkpoint, es]"
   ]
  },
  {
   "cell_type": "markdown",
   "id": "3b9457f0",
   "metadata": {},
   "source": [
    "### Entrainement du modèle"
   ]
  },
  {
   "cell_type": "code",
   "execution_count": 24,
   "id": "041a2c36",
   "metadata": {},
   "outputs": [
    {
     "name": "stdout",
     "output_type": "stream",
     "text": [
      "Epoch 1/20\n",
      "WARNING:tensorflow:Using a while_loop for converting RngReadAndSkip cause there is no registered converter for this op.\n",
      "WARNING:tensorflow:Using a while_loop for converting Bitcast cause there is no registered converter for this op.\n",
      "WARNING:tensorflow:Using a while_loop for converting Bitcast cause there is no registered converter for this op.\n",
      "WARNING:tensorflow:Using a while_loop for converting StatelessRandomUniformV2 cause there is no registered converter for this op.\n",
      "WARNING:tensorflow:Using a while_loop for converting ImageProjectiveTransformV3 cause there is no registered converter for this op.\n",
      "WARNING:tensorflow:Using a while_loop for converting RngReadAndSkip cause there is no registered converter for this op.\n",
      "WARNING:tensorflow:Using a while_loop for converting Bitcast cause there is no registered converter for this op.\n",
      "WARNING:tensorflow:Using a while_loop for converting Bitcast cause there is no registered converter for this op.\n",
      "WARNING:tensorflow:Using a while_loop for converting StatelessRandomUniformV2 cause there is no registered converter for this op.\n",
      "WARNING:tensorflow:Using a while_loop for converting ImageProjectiveTransformV3 cause there is no registered converter for this op.\n",
      "WARNING:tensorflow:Using a while_loop for converting RngReadAndSkip cause there is no registered converter for this op.\n",
      "WARNING:tensorflow:Using a while_loop for converting Bitcast cause there is no registered converter for this op.\n",
      "WARNING:tensorflow:Using a while_loop for converting Bitcast cause there is no registered converter for this op.\n",
      "WARNING:tensorflow:Using a while_loop for converting StatelessRandomUniformV2 cause there is no registered converter for this op.\n",
      "WARNING:tensorflow:Using a while_loop for converting ImageProjectiveTransformV3 cause there is no registered converter for this op.\n",
      "WARNING:tensorflow:Using a while_loop for converting RngReadAndSkip cause there is no registered converter for this op.\n",
      "WARNING:tensorflow:Using a while_loop for converting Bitcast cause there is no registered converter for this op.\n",
      "WARNING:tensorflow:Using a while_loop for converting Bitcast cause there is no registered converter for this op.\n",
      "WARNING:tensorflow:Using a while_loop for converting StatelessRandomUniformV2 cause there is no registered converter for this op.\n",
      "WARNING:tensorflow:Using a while_loop for converting ImageProjectiveTransformV3 cause there is no registered converter for this op.\n",
      "9/9 [==============================] - ETA: 0s - loss: 2.0053 - accuracy: 0.1830\n",
      "Epoch 1: val_loss improved from inf to 1.65723, saving model to ./model6_best_weights.h5\n",
      "9/9 [==============================] - 47s 5s/step - loss: 2.0053 - accuracy: 0.1830 - val_loss: 1.6572 - val_accuracy: 0.4973\n",
      "Epoch 2/20\n",
      "9/9 [==============================] - ETA: 0s - loss: 1.6759 - accuracy: 0.3859\n",
      "Epoch 2: val_loss improved from 1.65723 to 1.36192, saving model to ./model6_best_weights.h5\n",
      "9/9 [==============================] - 46s 5s/step - loss: 1.6759 - accuracy: 0.3859 - val_loss: 1.3619 - val_accuracy: 0.6776\n",
      "Epoch 3/20\n",
      "9/9 [==============================] - ETA: 0s - loss: 1.3893 - accuracy: 0.5435\n",
      "Epoch 3: val_loss improved from 1.36192 to 1.17110, saving model to ./model6_best_weights.h5\n",
      "9/9 [==============================] - 46s 5s/step - loss: 1.3893 - accuracy: 0.5435 - val_loss: 1.1711 - val_accuracy: 0.7104\n",
      "Epoch 4/20\n",
      "9/9 [==============================] - ETA: 0s - loss: 1.2217 - accuracy: 0.6087\n",
      "Epoch 4: val_loss improved from 1.17110 to 1.01027, saving model to ./model6_best_weights.h5\n",
      "9/9 [==============================] - 46s 5s/step - loss: 1.2217 - accuracy: 0.6087 - val_loss: 1.0103 - val_accuracy: 0.7760\n",
      "Epoch 5/20\n",
      "9/9 [==============================] - ETA: 0s - loss: 1.1303 - accuracy: 0.6395\n",
      "Epoch 5: val_loss improved from 1.01027 to 0.92546, saving model to ./model6_best_weights.h5\n",
      "9/9 [==============================] - 46s 5s/step - loss: 1.1303 - accuracy: 0.6395 - val_loss: 0.9255 - val_accuracy: 0.7432\n",
      "Epoch 6/20\n",
      "9/9 [==============================] - ETA: 0s - loss: 1.0419 - accuracy: 0.6685\n",
      "Epoch 6: val_loss improved from 0.92546 to 0.86263, saving model to ./model6_best_weights.h5\n",
      "9/9 [==============================] - 46s 5s/step - loss: 1.0419 - accuracy: 0.6685 - val_loss: 0.8626 - val_accuracy: 0.7596\n",
      "Epoch 7/20\n",
      "9/9 [==============================] - ETA: 0s - loss: 0.9568 - accuracy: 0.6830\n",
      "Epoch 7: val_loss improved from 0.86263 to 0.81727, saving model to ./model6_best_weights.h5\n",
      "9/9 [==============================] - 45s 5s/step - loss: 0.9568 - accuracy: 0.6830 - val_loss: 0.8173 - val_accuracy: 0.7432\n",
      "Epoch 8/20\n",
      "9/9 [==============================] - ETA: 0s - loss: 0.9468 - accuracy: 0.6739\n",
      "Epoch 8: val_loss improved from 0.81727 to 0.79217, saving model to ./model6_best_weights.h5\n",
      "9/9 [==============================] - 45s 5s/step - loss: 0.9468 - accuracy: 0.6739 - val_loss: 0.7922 - val_accuracy: 0.7650\n",
      "Epoch 9/20\n",
      "9/9 [==============================] - ETA: 0s - loss: 0.8657 - accuracy: 0.7138\n",
      "Epoch 9: val_loss improved from 0.79217 to 0.75774, saving model to ./model6_best_weights.h5\n",
      "9/9 [==============================] - 45s 5s/step - loss: 0.8657 - accuracy: 0.7138 - val_loss: 0.7577 - val_accuracy: 0.7596\n",
      "Epoch 10/20\n",
      "9/9 [==============================] - ETA: 0s - loss: 0.8235 - accuracy: 0.7391\n",
      "Epoch 10: val_loss improved from 0.75774 to 0.74936, saving model to ./model6_best_weights.h5\n",
      "9/9 [==============================] - 46s 5s/step - loss: 0.8235 - accuracy: 0.7391 - val_loss: 0.7494 - val_accuracy: 0.7596\n",
      "Epoch 11/20\n",
      "9/9 [==============================] - ETA: 0s - loss: 0.8032 - accuracy: 0.7627\n",
      "Epoch 11: val_loss improved from 0.74936 to 0.71895, saving model to ./model6_best_weights.h5\n",
      "9/9 [==============================] - 46s 5s/step - loss: 0.8032 - accuracy: 0.7627 - val_loss: 0.7189 - val_accuracy: 0.7650\n",
      "Epoch 12/20\n",
      "9/9 [==============================] - ETA: 0s - loss: 0.7708 - accuracy: 0.7645\n",
      "Epoch 12: val_loss improved from 0.71895 to 0.70188, saving model to ./model6_best_weights.h5\n",
      "9/9 [==============================] - 45s 5s/step - loss: 0.7708 - accuracy: 0.7645 - val_loss: 0.7019 - val_accuracy: 0.7596\n",
      "Epoch 13/20\n",
      "9/9 [==============================] - ETA: 0s - loss: 0.7485 - accuracy: 0.7754\n",
      "Epoch 13: val_loss improved from 0.70188 to 0.68844, saving model to ./model6_best_weights.h5\n",
      "9/9 [==============================] - 46s 5s/step - loss: 0.7485 - accuracy: 0.7754 - val_loss: 0.6884 - val_accuracy: 0.7869\n",
      "Epoch 14/20\n",
      "9/9 [==============================] - ETA: 0s - loss: 0.7361 - accuracy: 0.7536\n",
      "Epoch 14: val_loss improved from 0.68844 to 0.68335, saving model to ./model6_best_weights.h5\n",
      "9/9 [==============================] - 46s 5s/step - loss: 0.7361 - accuracy: 0.7536 - val_loss: 0.6834 - val_accuracy: 0.7760\n",
      "Epoch 15/20\n",
      "9/9 [==============================] - ETA: 0s - loss: 0.6594 - accuracy: 0.8170\n",
      "Epoch 15: val_loss improved from 0.68335 to 0.66415, saving model to ./model6_best_weights.h5\n",
      "9/9 [==============================] - 45s 5s/step - loss: 0.6594 - accuracy: 0.8170 - val_loss: 0.6642 - val_accuracy: 0.7869\n",
      "Epoch 16/20\n",
      "9/9 [==============================] - ETA: 0s - loss: 0.6896 - accuracy: 0.7862\n",
      "Epoch 16: val_loss improved from 0.66415 to 0.66211, saving model to ./model6_best_weights.h5\n",
      "9/9 [==============================] - 45s 5s/step - loss: 0.6896 - accuracy: 0.7862 - val_loss: 0.6621 - val_accuracy: 0.7814\n",
      "Epoch 17/20\n",
      "9/9 [==============================] - ETA: 0s - loss: 0.6548 - accuracy: 0.7989\n",
      "Epoch 17: val_loss improved from 0.66211 to 0.65663, saving model to ./model6_best_weights.h5\n",
      "9/9 [==============================] - 45s 5s/step - loss: 0.6548 - accuracy: 0.7989 - val_loss: 0.6566 - val_accuracy: 0.7705\n",
      "Epoch 18/20\n",
      "9/9 [==============================] - ETA: 0s - loss: 0.6152 - accuracy: 0.8134\n",
      "Epoch 18: val_loss improved from 0.65663 to 0.65463, saving model to ./model6_best_weights.h5\n",
      "9/9 [==============================] - 45s 5s/step - loss: 0.6152 - accuracy: 0.8134 - val_loss: 0.6546 - val_accuracy: 0.7869\n",
      "Epoch 19/20\n",
      "9/9 [==============================] - ETA: 0s - loss: 0.6335 - accuracy: 0.8043\n",
      "Epoch 19: val_loss did not improve from 0.65463\n"
     ]
    },
    {
     "name": "stdout",
     "output_type": "stream",
     "text": [
      "9/9 [==============================] - 45s 5s/step - loss: 0.6335 - accuracy: 0.8043 - val_loss: 0.6547 - val_accuracy: 0.7705\n",
      "Epoch 20/20\n",
      "9/9 [==============================] - ETA: 0s - loss: 0.6038 - accuracy: 0.8080\n",
      "Epoch 20: val_loss improved from 0.65463 to 0.64029, saving model to ./model6_best_weights.h5\n",
      "9/9 [==============================] - 45s 5s/step - loss: 0.6038 - accuracy: 0.8080 - val_loss: 0.6403 - val_accuracy: 0.8033\n",
      "Temps d'exécution : 9.1e+02ms\n"
     ]
    }
   ],
   "source": [
    "start = time.time()\n",
    "#on stocke l'historique du modèle de l'apprentissage dans une variable\n",
    "history2 = model2.fit(dataset_train,\n",
    "                      validation_data=dataset_val,\n",
    "                      #batch_size=batch_size, #ignored because the date is a generator\n",
    "                      epochs=20, \n",
    "                      callbacks=callbacks_list, \n",
    "                      verbose=1)\n",
    "end = time.time()\n",
    "elapsed2 = end - start\n",
    "\n",
    "print(f'Temps d\\'exécution : {elapsed2:.2}ms')"
   ]
  },
  {
   "cell_type": "code",
   "execution_count": 25,
   "id": "fe540885",
   "metadata": {},
   "outputs": [
    {
     "name": "stdout",
     "output_type": "stream",
     "text": [
      "9/9 [==============================] - 34s 3s/step - loss: 0.4529 - accuracy: 0.8786\n",
      "Training Accuracy   : 0.8786\n",
      "\n",
      "3/3 [==============================] - 11s 3s/step - loss: 0.6403 - accuracy: 0.8033\n",
      "Validation Accuracy :  0.8033\n"
     ]
    }
   ],
   "source": [
    "# Score du dernier epoch\n",
    "\n",
    "loss, accuracy = model2.evaluate(dataset_train, verbose=True)\n",
    "print(\"Training Accuracy   : {:.4f}\".format(accuracy))\n",
    "print()\n",
    "loss, accuracy = model2.evaluate(dataset_val, verbose=True)\n",
    "print(\"Validation Accuracy :  {:.4f}\".format(accuracy))"
   ]
  },
  {
   "cell_type": "code",
   "execution_count": 26,
   "id": "0de3d7b3",
   "metadata": {},
   "outputs": [
    {
     "name": "stdout",
     "output_type": "stream",
     "text": [
      "Validation Accuracy :  0.8033\n",
      "Test Accuracy       :  0.7778\n"
     ]
    }
   ],
   "source": [
    "# Score de l'epoch optimal\n",
    "\n",
    "model2.load_weights(model2_save_path)\n",
    "\n",
    "loss_val_2, accuracy_val_2 = model2.evaluate(dataset_val, verbose=False)\n",
    "print(\"Validation Accuracy :  {:.4f}\".format(accuracy_val_2))\n",
    "\n",
    "loss_test_2, accuracy_test_2 = model2.evaluate(dataset_test, verbose=False)\n",
    "print(\"Test Accuracy       :  {:.4f}\".format(accuracy_test_2))"
   ]
  },
  {
   "cell_type": "code",
   "execution_count": 27,
   "id": "7e627f8e",
   "metadata": {},
   "outputs": [
    {
     "data": {
      "image/png": "[encoded data removed]",
      "text/plain": [
       "<Figure size 1000x500 with 2 Axes>"
      ]
     },
     "metadata": {},
     "output_type": "display_data"
    }
   ],
   "source": [
    "#on trace les historiques pour la précision et les pertes \n",
    "\n",
    "show_history(history2)\n",
    "plot_history(history2, path=\"standard.png\")\n",
    "plt.close()"
   ]
  },
  {
   "cell_type": "code",
   "execution_count": 28,
   "id": "515bef3b",
   "metadata": {},
   "outputs": [],
   "source": [
    "time2 = time.strftime(\"%H:%M:%S\", time.gmtime(elapsed2))\n",
    "scores = pd.concat([scores, pd.DataFrame({'Modèle':'Essai 2',\n",
    "                                          'Validation Accuracy': accuracy_val_2,\n",
    "                                          'Test Accuracy':accuracy_test_2,\n",
    "                                          'Validation Loss':loss_val_2,\n",
    "                                          'Test Loss':loss_test_2,\n",
    "                                         \"Temps nécessaire pour l'entrainement du modèle\":time2\n",
    "                                         }, index = [0])]).reset_index(drop=True)\n"
   ]
  },
  {
   "cell_type": "code",
   "execution_count": 29,
   "id": "b06952df",
   "metadata": {},
   "outputs": [
    {
     "data": {
      "text/html": [
       "<div>\n",
       "<style scoped>\n",
       "    .dataframe tbody tr th:only-of-type {\n",
       "        vertical-align: middle;\n",
       "    }\n",
       "\n",
       "    .dataframe tbody tr th {\n",
       "        vertical-align: top;\n",
       "    }\n",
       "\n",
       "    .dataframe thead th {\n",
       "        text-align: right;\n",
       "    }\n",
       "</style>\n",
       "<table border=\"1\" class=\"dataframe\">\n",
       "  <thead>\n",
       "    <tr style=\"text-align: right;\">\n",
       "      <th></th>\n",
       "      <th>Modèle</th>\n",
       "      <th>Validation Accuracy</th>\n",
       "      <th>Test Accuracy</th>\n",
       "      <th>Validation Loss</th>\n",
       "      <th>Test Loss</th>\n",
       "      <th>Temps nécessaire pour l'entrainement du modèle</th>\n",
       "    </tr>\n",
       "  </thead>\n",
       "  <tbody>\n",
       "    <tr>\n",
       "      <th>0</th>\n",
       "      <td>Essai 1</td>\n",
       "      <td>0.803279</td>\n",
       "      <td>0.777778</td>\n",
       "      <td>0.630203</td>\n",
       "      <td>0.689549</td>\n",
       "      <td>00:30:28</td>\n",
       "    </tr>\n",
       "    <tr>\n",
       "      <th>1</th>\n",
       "      <td>Essai 2</td>\n",
       "      <td>0.803279</td>\n",
       "      <td>0.777778</td>\n",
       "      <td>0.640290</td>\n",
       "      <td>0.702032</td>\n",
       "      <td>00:15:11</td>\n",
       "    </tr>\n",
       "  </tbody>\n",
       "</table>\n",
       "</div>"
      ],
      "text/plain": [
       "    Modèle  Validation Accuracy  Test Accuracy  Validation Loss  Test Loss  \\\n",
       "0  Essai 1             0.803279       0.777778         0.630203   0.689549   \n",
       "1  Essai 2             0.803279       0.777778         0.640290   0.702032   \n",
       "\n",
       "  Temps nécessaire pour l'entrainement du modèle  \n",
       "0                                       00:30:28  \n",
       "1                                       00:15:11  "
      ]
     },
     "execution_count": 29,
     "metadata": {},
     "output_type": "execute_result"
    }
   ],
   "source": [
    "scores"
   ]
  },
  {
   "cell_type": "markdown",
   "id": "93565c2c",
   "metadata": {},
   "source": [
    "## Essai 3 :  On modifie le learning rate"
   ]
  },
  {
   "cell_type": "code",
   "execution_count": 30,
   "id": "48ef9d59",
   "metadata": {},
   "outputs": [],
   "source": [
    "#fonction qui crée le modele de classification\n",
    "\n",
    "def create_model_fct2() :\n",
    "    # Data augmentation\n",
    "    data_augmentation = Sequential([RandomFlip(\"horizontal\",input_shape=(224, 224, 3)),\n",
    "                                    RandomRotation(0.1),\n",
    "                                    RandomZoom(0.1),\n",
    "                                    Rescaling(1./127.5,offset=-1.0)\n",
    "                                   ])\n",
    "    \n",
    "    # Récupération modèle pré-entraîné\n",
    "    model_base = VGG16(include_top=False, weights=\"imagenet\", input_shape=(224, 224, 3))\n",
    "    for layer in model_base.layers:\n",
    "        layer.trainable = False\n",
    "\n",
    "    # Définition du nouveau modèle\n",
    "    model = Sequential([data_augmentation,\n",
    "                        Rescaling(1./127.5, offset=-1),\n",
    "                        model_base,\n",
    "                        GlobalAveragePooling2D(),\n",
    "                        Dense(256, activation='relu'),\n",
    "                        Dropout(0.5),\n",
    "                        Dense(7, activation='softmax')\n",
    "                       ])\n",
    "\n",
    "    # compilation du modèle \n",
    "    opt = tf.keras.optimizers.Adam(learning_rate=0.001)\n",
    "    model.compile(loss=\"categorical_crossentropy\", #Computes the crossentropy loss between the labels and predictions.\n",
    "                  optimizer=opt,\n",
    "                  metrics=[\"accuracy\"])\n",
    "\n",
    "\n",
    "    print(model.summary())\n",
    "    \n",
    "    return model"
   ]
  },
  {
   "cell_type": "markdown",
   "id": "6e6f2db6",
   "metadata": {},
   "source": [
    "### Creation datasets d'entrainement, de test et de validation"
   ]
  },
  {
   "cell_type": "code",
   "execution_count": 31,
   "id": "4e08f5f6",
   "metadata": {},
   "outputs": [],
   "source": [
    "# On utilise les images qui sont classés dans des dossiers des differents catégories de produits\n",
    "batch_size = 32\n",
    "path = './Flipkart/Images/df_train'\n",
    "path_test = './Flipkart/Images/df_test'\n",
    "\n",
    "def dataset_fct(path, validation_split=0, data_type=None) :\n",
    "    dataset = tf.keras.utils.image_dataset_from_directory(path,\n",
    "                                                          labels='inferred', \n",
    "                                                          label_mode='categorical',\n",
    "                                                          class_names=None, \n",
    "                                                          batch_size=batch_size,\n",
    "                                                          image_size=(224, 224),\n",
    "                                                          shuffle=True, \n",
    "                                                          seed=42,\n",
    "                                                          validation_split=validation_split, \n",
    "                                                          subset=data_type)\n",
    "    return dataset"
   ]
  },
  {
   "cell_type": "code",
   "execution_count": 32,
   "id": "112e5e89",
   "metadata": {},
   "outputs": [
    {
     "name": "stdout",
     "output_type": "stream",
     "text": [
      "Found 735 files belonging to 7 classes.\n",
      "Using 552 files for training.\n",
      "Found 735 files belonging to 7 classes.\n",
      "Using 183 files for validation.\n",
      "Found 315 files belonging to 7 classes.\n"
     ]
    }
   ],
   "source": [
    "# on crée les datasets d'entrainement, de validation et de test\n",
    "dataset_train = dataset_fct(path, validation_split=0.25, data_type='training')\n",
    "dataset_val = dataset_fct(path, validation_split=0.25, data_type='validation')\n",
    "dataset_test = dataset_fct(path_test, validation_split=0, data_type=None)"
   ]
  },
  {
   "cell_type": "markdown",
   "id": "fd20bd4c",
   "metadata": {},
   "source": [
    "### Creation du modèle"
   ]
  },
  {
   "cell_type": "code",
   "execution_count": 33,
   "id": "a405866f",
   "metadata": {},
   "outputs": [
    {
     "name": "stdout",
     "output_type": "stream",
     "text": [
      "Model: \"sequential_5\"\n",
      "_________________________________________________________________\n",
      " Layer (type)                Output Shape              Param #   \n",
      "=================================================================\n",
      " sequential_4 (Sequential)   (None, 224, 224, 3)       0         \n",
      "                                                                 \n",
      " rescaling_3 (Rescaling)     (None, 224, 224, 3)       0         \n",
      "                                                                 \n",
      " vgg16 (Functional)          (None, 7, 7, 512)         14714688  \n",
      "                                                                 \n",
      " global_average_pooling2d_2   (None, 512)              0         \n",
      " (GlobalAveragePooling2D)                                        \n",
      "                                                                 \n",
      " dense_4 (Dense)             (None, 256)               131328    \n",
      "                                                                 \n",
      " dropout_2 (Dropout)         (None, 256)               0         \n",
      "                                                                 \n",
      " dense_5 (Dense)             (None, 7)                 1799      \n",
      "                                                                 \n",
      "=================================================================\n",
      "Total params: 14,847,815\n",
      "Trainable params: 133,127\n",
      "Non-trainable params: 14,714,688\n",
      "_________________________________________________________________\n",
      "None\n"
     ]
    }
   ],
   "source": [
    "# Création du modèle\n",
    "model3 = create_model_fct2()\n",
    "\n",
    "# Création du callback\n",
    "model3_save_path = \"./model7_best_weights.h5\"\n",
    "\n",
    "checkpoint = ModelCheckpoint(model3_save_path, \n",
    "                             monitor='val_loss', \n",
    "                             verbose=1, \n",
    "                             save_best_only=True, \n",
    "                             mode='min')\n",
    "\n",
    "es = EarlyStopping(monitor='val_loss',\n",
    "                   mode='min', \n",
    "                   verbose=1, \n",
    "                   patience=5)\n",
    "callbacks_list = [checkpoint, es]"
   ]
  },
  {
   "cell_type": "markdown",
   "id": "2531102a",
   "metadata": {},
   "source": [
    "### Entrainement du modèle"
   ]
  },
  {
   "cell_type": "code",
   "execution_count": 34,
   "id": "a088d799",
   "metadata": {},
   "outputs": [
    {
     "name": "stdout",
     "output_type": "stream",
     "text": [
      "Epoch 1/20\n",
      "WARNING:tensorflow:Using a while_loop for converting RngReadAndSkip cause there is no registered converter for this op.\n",
      "WARNING:tensorflow:Using a while_loop for converting Bitcast cause there is no registered converter for this op.\n",
      "WARNING:tensorflow:Using a while_loop for converting Bitcast cause there is no registered converter for this op.\n",
      "WARNING:tensorflow:Using a while_loop for converting StatelessRandomUniformV2 cause there is no registered converter for this op.\n",
      "WARNING:tensorflow:Using a while_loop for converting ImageProjectiveTransformV3 cause there is no registered converter for this op.\n",
      "WARNING:tensorflow:Using a while_loop for converting RngReadAndSkip cause there is no registered converter for this op.\n",
      "WARNING:tensorflow:Using a while_loop for converting Bitcast cause there is no registered converter for this op.\n",
      "WARNING:tensorflow:Using a while_loop for converting Bitcast cause there is no registered converter for this op.\n",
      "WARNING:tensorflow:Using a while_loop for converting StatelessRandomUniformV2 cause there is no registered converter for this op.\n",
      "WARNING:tensorflow:Using a while_loop for converting ImageProjectiveTransformV3 cause there is no registered converter for this op.\n",
      "WARNING:tensorflow:Using a while_loop for converting RngReadAndSkip cause there is no registered converter for this op.\n",
      "WARNING:tensorflow:Using a while_loop for converting Bitcast cause there is no registered converter for this op.\n",
      "WARNING:tensorflow:Using a while_loop for converting Bitcast cause there is no registered converter for this op.\n",
      "WARNING:tensorflow:Using a while_loop for converting StatelessRandomUniformV2 cause there is no registered converter for this op.\n",
      "WARNING:tensorflow:Using a while_loop for converting ImageProjectiveTransformV3 cause there is no registered converter for this op.\n",
      "WARNING:tensorflow:Using a while_loop for converting RngReadAndSkip cause there is no registered converter for this op.\n",
      "WARNING:tensorflow:Using a while_loop for converting Bitcast cause there is no registered converter for this op.\n",
      "WARNING:tensorflow:Using a while_loop for converting Bitcast cause there is no registered converter for this op.\n",
      "WARNING:tensorflow:Using a while_loop for converting StatelessRandomUniformV2 cause there is no registered converter for this op.\n",
      "WARNING:tensorflow:Using a while_loop for converting ImageProjectiveTransformV3 cause there is no registered converter for this op.\n",
      "18/18 [==============================] - ETA: 0s - loss: 2.1397 - accuracy: 0.1467\n",
      "Epoch 1: val_loss improved from inf to 1.95681, saving model to ./model7_best_weights.h5\n",
      "18/18 [==============================] - 46s 2s/step - loss: 2.1397 - accuracy: 0.1467 - val_loss: 1.9568 - val_accuracy: 0.1475\n",
      "Epoch 2/20\n",
      "18/18 [==============================] - ETA: 0s - loss: 2.0384 - accuracy: 0.1413\n",
      "Epoch 2: val_loss did not improve from 1.95681\n",
      "18/18 [==============================] - 45s 2s/step - loss: 2.0384 - accuracy: 0.1413 - val_loss: 1.9701 - val_accuracy: 0.1257\n",
      "Epoch 3/20\n",
      "18/18 [==============================] - ETA: 0s - loss: 2.0136 - accuracy: 0.1594\n",
      "Epoch 3: val_loss improved from 1.95681 to 1.95033, saving model to ./model7_best_weights.h5\n",
      "18/18 [==============================] - 44s 2s/step - loss: 2.0136 - accuracy: 0.1594 - val_loss: 1.9503 - val_accuracy: 0.1585\n",
      "Epoch 4/20\n",
      "18/18 [==============================] - ETA: 0s - loss: 1.9756 - accuracy: 0.1558\n",
      "Epoch 4: val_loss did not improve from 1.95033\n",
      "18/18 [==============================] - 44s 2s/step - loss: 1.9756 - accuracy: 0.1558 - val_loss: 1.9575 - val_accuracy: 0.1202\n",
      "Epoch 5/20\n",
      "18/18 [==============================] - ETA: 0s - loss: 1.9704 - accuracy: 0.1522\n",
      "Epoch 5: val_loss improved from 1.95033 to 1.94883, saving model to ./model7_best_weights.h5\n",
      "18/18 [==============================] - 48s 3s/step - loss: 1.9704 - accuracy: 0.1522 - val_loss: 1.9488 - val_accuracy: 0.1530\n",
      "Epoch 6/20\n",
      "18/18 [==============================] - ETA: 0s - loss: 1.9808 - accuracy: 0.1141\n",
      "Epoch 6: val_loss did not improve from 1.94883\n",
      "18/18 [==============================] - 45s 2s/step - loss: 1.9808 - accuracy: 0.1141 - val_loss: 1.9516 - val_accuracy: 0.1202\n",
      "Epoch 7/20\n",
      "18/18 [==============================] - ETA: 0s - loss: 1.9724 - accuracy: 0.1395\n",
      "Epoch 7: val_loss improved from 1.94883 to 1.94688, saving model to ./model7_best_weights.h5\n",
      "18/18 [==============================] - 44s 2s/step - loss: 1.9724 - accuracy: 0.1395 - val_loss: 1.9469 - val_accuracy: 0.1530\n",
      "Epoch 8/20\n",
      "18/18 [==============================] - ETA: 0s - loss: 1.9549 - accuracy: 0.1232 \n",
      "Epoch 8: val_loss improved from 1.94688 to 1.94685, saving model to ./model7_best_weights.h5\n",
      "18/18 [==============================] - 393s 23s/step - loss: 1.9549 - accuracy: 0.1232 - val_loss: 1.9469 - val_accuracy: 0.1202\n",
      "Epoch 9/20\n",
      "18/18 [==============================] - ETA: 0s - loss: 1.9517 - accuracy: 0.1504\n",
      "Epoch 9: val_loss did not improve from 1.94685\n",
      "18/18 [==============================] - 47s 3s/step - loss: 1.9517 - accuracy: 0.1504 - val_loss: 1.9583 - val_accuracy: 0.1257\n",
      "Epoch 10/20\n",
      "18/18 [==============================] - ETA: 0s - loss: 1.9554 - accuracy: 0.1413\n",
      "Epoch 10: val_loss did not improve from 1.94685\n",
      "18/18 [==============================] - 46s 2s/step - loss: 1.9554 - accuracy: 0.1413 - val_loss: 1.9480 - val_accuracy: 0.1530\n",
      "Epoch 11/20\n",
      "18/18 [==============================] - ETA: 0s - loss: 1.9514 - accuracy: 0.1431\n",
      "Epoch 11: val_loss did not improve from 1.94685\n",
      "18/18 [==============================] - 46s 2s/step - loss: 1.9514 - accuracy: 0.1431 - val_loss: 1.9518 - val_accuracy: 0.1257\n",
      "Epoch 12/20\n",
      "18/18 [==============================] - ETA: 0s - loss: 1.9493 - accuracy: 0.1558\n",
      "Epoch 12: val_loss did not improve from 1.94685\n",
      "18/18 [==============================] - 46s 2s/step - loss: 1.9493 - accuracy: 0.1558 - val_loss: 1.9536 - val_accuracy: 0.1530\n",
      "Epoch 13/20\n",
      "18/18 [==============================] - ETA: 0s - loss: 1.9450 - accuracy: 0.1504\n",
      "Epoch 13: val_loss did not improve from 1.94685\n",
      "18/18 [==============================] - 45s 2s/step - loss: 1.9450 - accuracy: 0.1504 - val_loss: 1.9535 - val_accuracy: 0.1530\n",
      "Epoch 13: early stopping\n",
      "Temps d'exécution : 9.4e+02ms\n"
     ]
    }
   ],
   "source": [
    "start = time.time()\n",
    "#on stocke l'historique du modèle de l'apprentissage dans une variable\n",
    "history3 = model3.fit(dataset_train,\n",
    "                      validation_data=dataset_val,\n",
    "                      #batch_size=batch_size,      #ignored because the date is a generator\n",
    "                      epochs=20, \n",
    "                      callbacks=callbacks_list, \n",
    "                      verbose=1)\n",
    "end = time.time()\n",
    "elapsed3 = end - start\n",
    "\n",
    "print(f'Temps d\\'exécution : {elapsed3:.2}ms')"
   ]
  },
  {
   "cell_type": "code",
   "execution_count": 35,
   "id": "2b78c80a",
   "metadata": {},
   "outputs": [
    {
     "name": "stdout",
     "output_type": "stream",
     "text": [
      "18/18 [==============================] - 34s 2s/step - loss: 1.9431 - accuracy: 0.1612\n",
      "Training Accuracy   : 0.1612\n",
      "\n",
      "6/6 [==============================] - 12s 2s/step - loss: 1.9535 - accuracy: 0.1530\n",
      "Validation Accuracy :  0.1530\n"
     ]
    }
   ],
   "source": [
    "# Score du dernier epoch\n",
    "\n",
    "loss, accuracy = model3.evaluate(dataset_train, verbose=True)\n",
    "print(\"Training Accuracy   : {:.4f}\".format(accuracy))\n",
    "print()\n",
    "loss, accuracy = model3.evaluate(dataset_val, verbose=True)\n",
    "print(\"Validation Accuracy :  {:.4f}\".format(accuracy))"
   ]
  },
  {
   "cell_type": "code",
   "execution_count": 36,
   "id": "42501881",
   "metadata": {},
   "outputs": [
    {
     "name": "stdout",
     "output_type": "stream",
     "text": [
      "Validation Accuracy :  0.1202\n",
      "Test Accuracy       :  0.1429\n"
     ]
    }
   ],
   "source": [
    "# Score de l'epoch optimal\n",
    "\n",
    "model3.load_weights(model3_save_path)\n",
    "\n",
    "loss_val_3, accuracy_val_3 = model3.evaluate(dataset_val, verbose=False)\n",
    "print(\"Validation Accuracy :  {:.4f}\".format(accuracy_val_3))\n",
    "\n",
    "loss_test_3, accuracy_test_3 = model3.evaluate(dataset_test, verbose=False)\n",
    "print(\"Test Accuracy       :  {:.4f}\".format(accuracy_test_3))"
   ]
  },
  {
   "cell_type": "code",
   "execution_count": 37,
   "id": "8a56603a",
   "metadata": {},
   "outputs": [
    {
     "data": {
      "image/png": "[encoded data removed]",
      "text/plain": [
       "<Figure size 1000x500 with 2 Axes>"
      ]
     },
     "metadata": {},
     "output_type": "display_data"
    }
   ],
   "source": [
    "#on trace les historiques pour la précision et les pertes \n",
    "\n",
    "show_history(history3)\n",
    "plot_history(history3, path=\"standard.png\")\n",
    "plt.close()"
   ]
  },
  {
   "cell_type": "code",
   "execution_count": 38,
   "id": "d0b05cc5",
   "metadata": {},
   "outputs": [],
   "source": [
    "time3 = time.strftime(\"%H:%M:%S\", time.gmtime(elapsed3))\n",
    "scores = pd.concat([scores, pd.DataFrame({'Modèle':'Essai 3',\n",
    "                                          'Validation Accuracy': accuracy_val_3,\n",
    "                                          'Test Accuracy':accuracy_test_3,\n",
    "                                          'Validation Loss':loss_val_3,\n",
    "                                          'Test Loss':loss_test_3,\n",
    "                                         \"Temps nécessaire pour l'entrainement du modèle\":time3\n",
    "                                         }, index = [0])]).reset_index(drop=True)\n"
   ]
  },
  {
   "cell_type": "code",
   "execution_count": 39,
   "id": "53ee40a6",
   "metadata": {},
   "outputs": [
    {
     "data": {
      "text/html": [
       "<div>\n",
       "<style scoped>\n",
       "    .dataframe tbody tr th:only-of-type {\n",
       "        vertical-align: middle;\n",
       "    }\n",
       "\n",
       "    .dataframe tbody tr th {\n",
       "        vertical-align: top;\n",
       "    }\n",
       "\n",
       "    .dataframe thead th {\n",
       "        text-align: right;\n",
       "    }\n",
       "</style>\n",
       "<table border=\"1\" class=\"dataframe\">\n",
       "  <thead>\n",
       "    <tr style=\"text-align: right;\">\n",
       "      <th></th>\n",
       "      <th>Modèle</th>\n",
       "      <th>Validation Accuracy</th>\n",
       "      <th>Test Accuracy</th>\n",
       "      <th>Validation Loss</th>\n",
       "      <th>Test Loss</th>\n",
       "      <th>Temps nécessaire pour l'entrainement du modèle</th>\n",
       "    </tr>\n",
       "  </thead>\n",
       "  <tbody>\n",
       "    <tr>\n",
       "      <th>0</th>\n",
       "      <td>Essai 1</td>\n",
       "      <td>0.803279</td>\n",
       "      <td>0.777778</td>\n",
       "      <td>0.630203</td>\n",
       "      <td>0.689549</td>\n",
       "      <td>00:30:28</td>\n",
       "    </tr>\n",
       "    <tr>\n",
       "      <th>1</th>\n",
       "      <td>Essai 2</td>\n",
       "      <td>0.803279</td>\n",
       "      <td>0.777778</td>\n",
       "      <td>0.640290</td>\n",
       "      <td>0.702032</td>\n",
       "      <td>00:15:11</td>\n",
       "    </tr>\n",
       "    <tr>\n",
       "      <th>2</th>\n",
       "      <td>Essai 3</td>\n",
       "      <td>0.120219</td>\n",
       "      <td>0.142857</td>\n",
       "      <td>1.946853</td>\n",
       "      <td>1.947899</td>\n",
       "      <td>00:15:39</td>\n",
       "    </tr>\n",
       "  </tbody>\n",
       "</table>\n",
       "</div>"
      ],
      "text/plain": [
       "    Modèle  Validation Accuracy  Test Accuracy  Validation Loss  Test Loss  \\\n",
       "0  Essai 1             0.803279       0.777778         0.630203   0.689549   \n",
       "1  Essai 2             0.803279       0.777778         0.640290   0.702032   \n",
       "2  Essai 3             0.120219       0.142857         1.946853   1.947899   \n",
       "\n",
       "  Temps nécessaire pour l'entrainement du modèle  \n",
       "0                                       00:30:28  \n",
       "1                                       00:15:11  \n",
       "2                                       00:15:39  "
      ]
     },
     "execution_count": 39,
     "metadata": {},
     "output_type": "execute_result"
    }
   ],
   "source": [
    "scores"
   ]
  },
  {
   "cell_type": "markdown",
   "id": "a5a81422",
   "metadata": {},
   "source": [
    "-> ajouter un learning rate baisse enormement le score de precision et augmente la perte"
   ]
  },
  {
   "cell_type": "markdown",
   "id": "59023eab",
   "metadata": {},
   "source": [
    "## Essai 4 : on change l'optimizer"
   ]
  },
  {
   "cell_type": "markdown",
   "id": "7c459a73",
   "metadata": {},
   "source": [
    "### Creation du modèle"
   ]
  },
  {
   "cell_type": "code",
   "execution_count": 40,
   "id": "92d1401d",
   "metadata": {},
   "outputs": [],
   "source": [
    "#fonction qui crée le modele de classification\n",
    "\n",
    "def create_model_fct3() :\n",
    "    # Data augmentation\n",
    "    data_augmentation = Sequential([RandomFlip(\"horizontal\",input_shape=(224, 224, 3)),\n",
    "                                    RandomRotation(0.1),\n",
    "                                    RandomZoom(0.1),\n",
    "                                    Rescaling(1./127.5,offset=-1.0)\n",
    "                                   ])\n",
    "    \n",
    "    # Récupération modèle pré-entraîné\n",
    "    model_base = VGG16(include_top=False, weights=\"imagenet\", input_shape=(224, 224, 3))\n",
    "    #On entraîne seulement le nouveau classifieur et on ne ré-entraîne pas les autres couches\n",
    "    for layer in model_base.layers:\n",
    "        layer.trainable = False\n",
    "\n",
    "    # Définition du nouveau modèle\n",
    "    model = Sequential([data_augmentation,\n",
    "                        Rescaling(1./127.5, offset=-1),\n",
    "                        model_base,\n",
    "                        GlobalAveragePooling2D(),\n",
    "                        Dense(256, activation='relu'),\n",
    "                        Dropout(0.5),\n",
    "                        Dense(7, activation='softmax')\n",
    "                       ])\n",
    "\n",
    "    # compilation du modèle \n",
    "    opt = tf.keras.optimizers.experimental.SGD(learning_rate=0.01, clipvalue=1)\n",
    "    model.compile(loss=\"categorical_crossentropy\", #Computes the crossentropy loss between the labels and predictions.\n",
    "                  optimizer=opt,\n",
    "                  metrics=[\"accuracy\"])\n",
    "\n",
    "\n",
    "    print(model.summary())\n",
    "    \n",
    "    return model"
   ]
  },
  {
   "cell_type": "markdown",
   "id": "a783ec49",
   "metadata": {},
   "source": [
    "### Creation datasets d'entrainement, de test et de validation"
   ]
  },
  {
   "cell_type": "code",
   "execution_count": 41,
   "id": "37572c43",
   "metadata": {},
   "outputs": [],
   "source": [
    "# On utilise les images qui sont classés dans des dossiers des differents catégories de produits\n",
    "path = './Flipkart/Images/df_train'\n",
    "path_test = './Flipkart/Images/df_test'\n",
    "batch_size =32\n",
    "\n",
    "def dataset_fct(path, validation_split=0, data_type=None) :\n",
    "    dataset = tf.keras.utils.image_dataset_from_directory(path,\n",
    "                                                          labels='inferred', \n",
    "                                                          label_mode='categorical',\n",
    "                                                          class_names=None, \n",
    "                                                          batch_size=batch_size,\n",
    "                                                          image_size=(224, 224),\n",
    "                                                          shuffle=True, \n",
    "                                                          seed=42,\n",
    "                                                          validation_split=validation_split, \n",
    "                                                          subset=data_type)\n",
    "    return dataset"
   ]
  },
  {
   "cell_type": "code",
   "execution_count": 42,
   "id": "50d33ff1",
   "metadata": {},
   "outputs": [
    {
     "name": "stdout",
     "output_type": "stream",
     "text": [
      "Found 735 files belonging to 7 classes.\n",
      "Using 552 files for training.\n",
      "Found 735 files belonging to 7 classes.\n",
      "Using 183 files for validation.\n",
      "Found 315 files belonging to 7 classes.\n"
     ]
    }
   ],
   "source": [
    "# on crée les datasets d'entrainement, de validation et de test\n",
    "dataset_train = dataset_fct(path, validation_split=0.25, data_type='training')\n",
    "dataset_val = dataset_fct(path, validation_split=0.25, data_type='validation')\n",
    "dataset_test = dataset_fct(path_test, validation_split=0, data_type=None)"
   ]
  },
  {
   "cell_type": "markdown",
   "id": "9a96bec1",
   "metadata": {},
   "source": [
    "### Creation du modèle"
   ]
  },
  {
   "cell_type": "code",
   "execution_count": 43,
   "id": "6697d377",
   "metadata": {},
   "outputs": [
    {
     "name": "stdout",
     "output_type": "stream",
     "text": [
      "Model: \"sequential_7\"\n",
      "_________________________________________________________________\n",
      " Layer (type)                Output Shape              Param #   \n",
      "=================================================================\n",
      " sequential_6 (Sequential)   (None, 224, 224, 3)       0         \n",
      "                                                                 \n",
      " rescaling_5 (Rescaling)     (None, 224, 224, 3)       0         \n",
      "                                                                 \n",
      " vgg16 (Functional)          (None, 7, 7, 512)         14714688  \n",
      "                                                                 \n",
      " global_average_pooling2d_3   (None, 512)              0         \n",
      " (GlobalAveragePooling2D)                                        \n",
      "                                                                 \n",
      " dense_6 (Dense)             (None, 256)               131328    \n",
      "                                                                 \n",
      " dropout_3 (Dropout)         (None, 256)               0         \n",
      "                                                                 \n",
      " dense_7 (Dense)             (None, 7)                 1799      \n",
      "                                                                 \n",
      "=================================================================\n",
      "Total params: 14,847,815\n",
      "Trainable params: 133,127\n",
      "Non-trainable params: 14,714,688\n",
      "_________________________________________________________________\n",
      "None\n"
     ]
    }
   ],
   "source": [
    "# Création du modèle\n",
    "model4 = create_model_fct3()\n",
    "\n",
    "# Création du callback\n",
    "model4_save_path = \"./model8_best_weights.h5\"\n",
    "\n",
    "checkpoint = ModelCheckpoint(model4_save_path, \n",
    "                             monitor='val_loss', \n",
    "                             verbose=1, \n",
    "                             save_best_only=True, \n",
    "                             mode='min')\n",
    "\n",
    "es = EarlyStopping(monitor='val_loss',\n",
    "                   mode='min', \n",
    "                   verbose=1, \n",
    "                   patience=5)\n",
    "\n",
    "callbacks_list = [checkpoint, es]"
   ]
  },
  {
   "cell_type": "markdown",
   "id": "dff5e8bd",
   "metadata": {},
   "source": [
    "### Entrainement du modèle"
   ]
  },
  {
   "cell_type": "code",
   "execution_count": 44,
   "id": "2f2d2086",
   "metadata": {
    "scrolled": true
   },
   "outputs": [
    {
     "name": "stdout",
     "output_type": "stream",
     "text": [
      "Epoch 1/20\n",
      "WARNING:tensorflow:Using a while_loop for converting RngReadAndSkip cause there is no registered converter for this op.\n",
      "WARNING:tensorflow:Using a while_loop for converting Bitcast cause there is no registered converter for this op.\n",
      "WARNING:tensorflow:Using a while_loop for converting Bitcast cause there is no registered converter for this op.\n",
      "WARNING:tensorflow:Using a while_loop for converting StatelessRandomUniformV2 cause there is no registered converter for this op.\n",
      "WARNING:tensorflow:Using a while_loop for converting ImageProjectiveTransformV3 cause there is no registered converter for this op.\n",
      "WARNING:tensorflow:Using a while_loop for converting RngReadAndSkip cause there is no registered converter for this op.\n",
      "WARNING:tensorflow:Using a while_loop for converting Bitcast cause there is no registered converter for this op.\n",
      "WARNING:tensorflow:Using a while_loop for converting Bitcast cause there is no registered converter for this op.\n",
      "WARNING:tensorflow:Using a while_loop for converting StatelessRandomUniformV2 cause there is no registered converter for this op.\n",
      "WARNING:tensorflow:Using a while_loop for converting ImageProjectiveTransformV3 cause there is no registered converter for this op.\n",
      "WARNING:tensorflow:Using a while_loop for converting RngReadAndSkip cause there is no registered converter for this op.\n",
      "WARNING:tensorflow:Using a while_loop for converting Bitcast cause there is no registered converter for this op.\n",
      "WARNING:tensorflow:Using a while_loop for converting Bitcast cause there is no registered converter for this op.\n",
      "WARNING:tensorflow:Using a while_loop for converting StatelessRandomUniformV2 cause there is no registered converter for this op.\n",
      "WARNING:tensorflow:Using a while_loop for converting ImageProjectiveTransformV3 cause there is no registered converter for this op.\n",
      "WARNING:tensorflow:Using a while_loop for converting RngReadAndSkip cause there is no registered converter for this op.\n",
      "WARNING:tensorflow:Using a while_loop for converting Bitcast cause there is no registered converter for this op.\n",
      "WARNING:tensorflow:Using a while_loop for converting Bitcast cause there is no registered converter for this op.\n",
      "WARNING:tensorflow:Using a while_loop for converting StatelessRandomUniformV2 cause there is no registered converter for this op.\n",
      "WARNING:tensorflow:Using a while_loop for converting ImageProjectiveTransformV3 cause there is no registered converter for this op.\n",
      "18/18 [==============================] - ETA: 0s - loss: 2.0973 - accuracy: 0.1467\n",
      "Epoch 1: val_loss improved from inf to 1.96479, saving model to ./model8_best_weights.h5\n",
      "WARNING:tensorflow:HDF5 format does not save weights of `optimizer_experimental.Optimizer`, your optimizer will be recompiled at loading time.\n",
      "18/18 [==============================] - 48s 3s/step - loss: 2.0973 - accuracy: 0.1467 - val_loss: 1.9648 - val_accuracy: 0.1475\n",
      "Epoch 2/20\n",
      "18/18 [==============================] - ETA: 0s - loss: 2.0602 - accuracy: 0.1540\n",
      "Epoch 2: val_loss did not improve from 1.96479\n",
      "18/18 [==============================] - 46s 3s/step - loss: 2.0602 - accuracy: 0.1540 - val_loss: 1.9828 - val_accuracy: 0.1475\n",
      "Epoch 3/20\n",
      "18/18 [==============================] - ETA: 0s - loss: 2.0101 - accuracy: 0.1576\n",
      "Epoch 3: val_loss improved from 1.96479 to 1.96152, saving model to ./model8_best_weights.h5\n",
      "WARNING:tensorflow:HDF5 format does not save weights of `optimizer_experimental.Optimizer`, your optimizer will be recompiled at loading time.\n",
      "18/18 [==============================] - 46s 3s/step - loss: 2.0101 - accuracy: 0.1576 - val_loss: 1.9615 - val_accuracy: 0.1530\n",
      "Epoch 4/20\n",
      "18/18 [==============================] - ETA: 0s - loss: 2.0168 - accuracy: 0.1413\n",
      "Epoch 4: val_loss improved from 1.96152 to 1.95937, saving model to ./model8_best_weights.h5\n",
      "WARNING:tensorflow:HDF5 format does not save weights of `optimizer_experimental.Optimizer`, your optimizer will be recompiled at loading time.\n",
      "18/18 [==============================] - 46s 3s/step - loss: 2.0168 - accuracy: 0.1413 - val_loss: 1.9594 - val_accuracy: 0.1530\n",
      "Epoch 5/20\n",
      "18/18 [==============================] - ETA: 0s - loss: 1.9752 - accuracy: 0.1522\n",
      "Epoch 5: val_loss did not improve from 1.95937\n",
      "18/18 [==============================] - 46s 3s/step - loss: 1.9752 - accuracy: 0.1522 - val_loss: 1.9617 - val_accuracy: 0.1202\n",
      "Epoch 6/20\n",
      "18/18 [==============================] - ETA: 0s - loss: 1.9897 - accuracy: 0.1395\n",
      "Epoch 6: val_loss did not improve from 1.95937\n",
      "18/18 [==============================] - 47s 3s/step - loss: 1.9897 - accuracy: 0.1395 - val_loss: 1.9612 - val_accuracy: 0.1257\n",
      "Epoch 7/20\n",
      "18/18 [==============================] - ETA: 0s - loss: 1.9994 - accuracy: 0.1322\n",
      "Epoch 7: val_loss improved from 1.95937 to 1.95392, saving model to ./model8_best_weights.h5\n",
      "WARNING:tensorflow:HDF5 format does not save weights of `optimizer_experimental.Optimizer`, your optimizer will be recompiled at loading time.\n",
      "18/18 [==============================] - 46s 3s/step - loss: 1.9994 - accuracy: 0.1322 - val_loss: 1.9539 - val_accuracy: 0.1202\n",
      "Epoch 8/20\n",
      "18/18 [==============================] - ETA: 0s - loss: 1.9845 - accuracy: 0.1286\n",
      "Epoch 8: val_loss did not improve from 1.95392\n",
      "18/18 [==============================] - 46s 3s/step - loss: 1.9845 - accuracy: 0.1286 - val_loss: 1.9689 - val_accuracy: 0.1202\n",
      "Epoch 9/20\n",
      "18/18 [==============================] - ETA: 0s - loss: 1.9786 - accuracy: 0.1304\n",
      "Epoch 9: val_loss did not improve from 1.95392\n",
      "18/18 [==============================] - 46s 3s/step - loss: 1.9786 - accuracy: 0.1304 - val_loss: 1.9687 - val_accuracy: 0.1530\n",
      "Epoch 10/20\n",
      "18/18 [==============================] - ETA: 0s - loss: 1.9799 - accuracy: 0.1540\n",
      "Epoch 10: val_loss did not improve from 1.95392\n",
      "18/18 [==============================] - 46s 2s/step - loss: 1.9799 - accuracy: 0.1540 - val_loss: 1.9638 - val_accuracy: 0.1257\n",
      "Epoch 11/20\n",
      "18/18 [==============================] - ETA: 0s - loss: 1.9552 - accuracy: 0.1449\n",
      "Epoch 11: val_loss did not improve from 1.95392\n",
      "18/18 [==============================] - 46s 2s/step - loss: 1.9552 - accuracy: 0.1449 - val_loss: 1.9596 - val_accuracy: 0.1257\n",
      "Epoch 12/20\n",
      "18/18 [==============================] - ETA: 0s - loss: 1.9518 - accuracy: 0.1304\n",
      "Epoch 12: val_loss did not improve from 1.95392\n",
      "18/18 [==============================] - 46s 2s/step - loss: 1.9518 - accuracy: 0.1304 - val_loss: 1.9559 - val_accuracy: 0.1530\n",
      "Epoch 12: early stopping\n",
      "Temps d'exécution : 5.5e+02ms\n"
     ]
    }
   ],
   "source": [
    "start = time.time()\n",
    "#on stocke l'historique du modèle de l'apprentissage dans une variable\n",
    "history4 = model4.fit(dataset_train,\n",
    "                      validation_data=dataset_val,\n",
    "                      #batch_size=batch_size,      #ignored because the date is a generator\n",
    "                      epochs=20, \n",
    "                      callbacks=callbacks_list, \n",
    "                      verbose=1)\n",
    "end = time.time()\n",
    "elapsed4 = end - start\n",
    "\n",
    "print(f'Temps d\\'exécution : {elapsed4:.2}ms')"
   ]
  },
  {
   "cell_type": "code",
   "execution_count": 45,
   "id": "e2113e5f",
   "metadata": {},
   "outputs": [
    {
     "name": "stdout",
     "output_type": "stream",
     "text": [
      "18/18 [==============================] - 34s 2s/step - loss: 1.9463 - accuracy: 0.1612\n",
      "Training Accuracy   : 0.1612\n",
      "\n",
      "6/6 [==============================] - 11s 2s/step - loss: 1.9559 - accuracy: 0.1530\n",
      "Validation Accuracy :  0.1530\n"
     ]
    }
   ],
   "source": [
    "# Score du dernier epoch\n",
    "\n",
    "loss, accuracy = model4.evaluate(dataset_train, verbose=True)\n",
    "print(\"Training Accuracy   : {:.4f}\".format(accuracy))\n",
    "print()\n",
    "loss, accuracy = model4.evaluate(dataset_val, verbose=True)\n",
    "print(\"Validation Accuracy :  {:.4f}\".format(accuracy))"
   ]
  },
  {
   "cell_type": "code",
   "execution_count": 46,
   "id": "fe0bac06",
   "metadata": {},
   "outputs": [
    {
     "name": "stdout",
     "output_type": "stream",
     "text": [
      "Validation Accuracy :  0.1202\n",
      "Test Accuracy       :  0.1429\n"
     ]
    }
   ],
   "source": [
    "# Score de l'epoch optimal\n",
    "\n",
    "model4.load_weights(model4_save_path)\n",
    "\n",
    "loss_val_4, accuracy_val_4 = model4.evaluate(dataset_val, verbose=False)\n",
    "print(\"Validation Accuracy :  {:.4f}\".format(accuracy_val_4))\n",
    "\n",
    "loss_test_4, accuracy_test_4 = model4.evaluate(dataset_test, verbose=False)\n",
    "print(\"Test Accuracy       :  {:.4f}\".format(accuracy_test_4))"
   ]
  },
  {
   "cell_type": "code",
   "execution_count": 47,
   "id": "da883ff4",
   "metadata": {},
   "outputs": [
    {
     "data": {
      "image/png": "[encoded data removed]",
      "text/plain": [
       "<Figure size 1000x500 with 2 Axes>"
      ]
     },
     "metadata": {},
     "output_type": "display_data"
    }
   ],
   "source": [
    "#on trace les historiques pour la précision et les pertes \n",
    "\n",
    "show_history(history4)\n",
    "plot_history(history4, path=\"standard.png\")\n",
    "plt.close()"
   ]
  },
  {
   "cell_type": "code",
   "execution_count": 48,
   "id": "57f3c910",
   "metadata": {},
   "outputs": [],
   "source": [
    "time4 = time.strftime(\"%H:%M:%S\", time.gmtime(elapsed4))\n",
    "scores = pd.concat([scores, pd.DataFrame({'Modèle':'Essai 4',\n",
    "                                          'Validation Accuracy': accuracy_val_4,\n",
    "                                          'Test Accuracy':accuracy_test_4,\n",
    "                                          'Validation Loss':loss_val_4,\n",
    "                                          'Test Loss':loss_test_4,\n",
    "                                         \"Temps nécessaire pour l'entrainement du modèle\":time4\n",
    "                                         }, index = [0])]).reset_index(drop=True)\n"
   ]
  },
  {
   "cell_type": "code",
   "execution_count": 49,
   "id": "d0fffe66",
   "metadata": {},
   "outputs": [
    {
     "data": {
      "text/html": [
       "<div>\n",
       "<style scoped>\n",
       "    .dataframe tbody tr th:only-of-type {\n",
       "        vertical-align: middle;\n",
       "    }\n",
       "\n",
       "    .dataframe tbody tr th {\n",
       "        vertical-align: top;\n",
       "    }\n",
       "\n",
       "    .dataframe thead th {\n",
       "        text-align: right;\n",
       "    }\n",
       "</style>\n",
       "<table border=\"1\" class=\"dataframe\">\n",
       "  <thead>\n",
       "    <tr style=\"text-align: right;\">\n",
       "      <th></th>\n",
       "      <th>Modèle</th>\n",
       "      <th>Validation Accuracy</th>\n",
       "      <th>Test Accuracy</th>\n",
       "      <th>Validation Loss</th>\n",
       "      <th>Test Loss</th>\n",
       "      <th>Temps nécessaire pour l'entrainement du modèle</th>\n",
       "    </tr>\n",
       "  </thead>\n",
       "  <tbody>\n",
       "    <tr>\n",
       "      <th>0</th>\n",
       "      <td>Essai 1</td>\n",
       "      <td>0.803279</td>\n",
       "      <td>0.777778</td>\n",
       "      <td>0.630203</td>\n",
       "      <td>0.689549</td>\n",
       "      <td>00:30:28</td>\n",
       "    </tr>\n",
       "    <tr>\n",
       "      <th>1</th>\n",
       "      <td>Essai 2</td>\n",
       "      <td>0.803279</td>\n",
       "      <td>0.777778</td>\n",
       "      <td>0.640290</td>\n",
       "      <td>0.702032</td>\n",
       "      <td>00:15:11</td>\n",
       "    </tr>\n",
       "    <tr>\n",
       "      <th>2</th>\n",
       "      <td>Essai 3</td>\n",
       "      <td>0.120219</td>\n",
       "      <td>0.142857</td>\n",
       "      <td>1.946853</td>\n",
       "      <td>1.947899</td>\n",
       "      <td>00:15:39</td>\n",
       "    </tr>\n",
       "    <tr>\n",
       "      <th>3</th>\n",
       "      <td>Essai 4</td>\n",
       "      <td>0.120219</td>\n",
       "      <td>0.142857</td>\n",
       "      <td>1.953915</td>\n",
       "      <td>1.946819</td>\n",
       "      <td>00:09:12</td>\n",
       "    </tr>\n",
       "  </tbody>\n",
       "</table>\n",
       "</div>"
      ],
      "text/plain": [
       "    Modèle  Validation Accuracy  Test Accuracy  Validation Loss  Test Loss  \\\n",
       "0  Essai 1             0.803279       0.777778         0.630203   0.689549   \n",
       "1  Essai 2             0.803279       0.777778         0.640290   0.702032   \n",
       "2  Essai 3             0.120219       0.142857         1.946853   1.947899   \n",
       "3  Essai 4             0.120219       0.142857         1.953915   1.946819   \n",
       "\n",
       "  Temps nécessaire pour l'entrainement du modèle  \n",
       "0                                       00:30:28  \n",
       "1                                       00:15:11  \n",
       "2                                       00:15:39  \n",
       "3                                       00:09:12  "
      ]
     },
     "execution_count": 49,
     "metadata": {},
     "output_type": "execute_result"
    }
   ],
   "source": [
    "scores"
   ]
  }
 ],
 "metadata": {
  "kernelspec": {
   "display_name": "Python 3 (ipykernel)",
   "language": "python",
   "name": "python3"
  },
  "language_info": {
   "codemirror_mode": {
    "name": "ipython",
    "version": 3
   },
   "file_extension": ".py",
   "mimetype": "text/x-python",
   "name": "python",
   "nbconvert_exporter": "python",
   "pygments_lexer": "ipython3",
   "version": "3.8.17"
  }
 },
 "nbformat": 4,
 "nbformat_minor": 5
}
